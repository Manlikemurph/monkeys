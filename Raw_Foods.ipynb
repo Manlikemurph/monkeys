{
  "nbformat": 4,
  "nbformat_minor": 0,
  "metadata": {
    "colab": {
      "name": "Raw Foods.ipynb",
      "version": "0.3.2",
      "provenance": [],
      "collapsed_sections": [],
      "include_colab_link": true
    },
    "kernelspec": {
      "name": "python3",
      "display_name": "Python 3"
    },
    "accelerator": "GPU"
  },
  "cells": [
    {
      "cell_type": "markdown",
      "metadata": {
        "id": "view-in-github",
        "colab_type": "text"
      },
      "source": [
        "<a href=\"https://colab.research.google.com/github/Manlikemurph/monkeys/blob/master/Raw_Foods.ipynb\" target=\"_parent\"><img src=\"https://colab.research.google.com/assets/colab-badge.svg\" alt=\"Open In Colab\"/></a>"
      ]
    },
    {
      "cell_type": "code",
      "metadata": {
        "id": "IVlj2Kf3eGnO",
        "colab_type": "code",
        "colab": {}
      },
      "source": [
        "from google.colab import drive\n",
        "drive.mount('/content/drive')"
      ],
      "execution_count": 0,
      "outputs": []
    },
    {
      "cell_type": "code",
      "metadata": {
        "id": "zsgYiJzGe2zl",
        "colab_type": "code",
        "colab": {}
      },
      "source": [
        "from fastai import *\n",
        "from fastai.vision import *\n",
        "from fastai.core import *"
      ],
      "execution_count": 0,
      "outputs": []
    },
    {
      "cell_type": "code",
      "metadata": {
        "id": "u0vEfxVMe5B-",
        "colab_type": "code",
        "colab": {}
      },
      "source": [
        "%reload_ext autoreload\n",
        "%autoreload 2\n",
        "%matplotlib inline\n",
        "\n",
        "from fastai.vision import *\n",
        "from fastai.metrics import error_rate\n",
        "\n",
        "bs = 64  #batch size: if your GPU is running out of memory, set a smaller batch size, i.e 16\n",
        "sz = 224 #image size\n",
        "PATH = '/content/drive/My Drive/fastai/Raw Foods'"
      ],
      "execution_count": 0,
      "outputs": []
    },
    {
      "cell_type": "code",
      "metadata": {
        "id": "uFJBWONcfAlv",
        "colab_type": "code",
        "colab": {}
      },
      "source": [
        "classes = []\n",
        "for d in os.listdir(PATH):\n",
        "    if os.path.isdir(os.path.join(PATH, d)) and not d.startswith('.'):\n",
        "        classes.append(d) \n",
        "print (\"There are \", len(classes), \"classes:\\n\", classes) "
      ],
      "execution_count": 0,
      "outputs": []
    },
    {
      "cell_type": "code",
      "metadata": {
        "id": "FX-MkqfSfD95",
        "colab_type": "code",
        "colab": {}
      },
      "source": [
        "for c in classes:\n",
        "    print (\"Class:\", c)\n",
        "    verify_images(os.path.join(PATH, c), delete=True);"
      ],
      "execution_count": 0,
      "outputs": []
    },
    {
      "cell_type": "code",
      "metadata": {
        "id": "i5aR1XCnfN_y",
        "colab_type": "code",
        "colab": {}
      },
      "source": [
        "data  = ImageDataBunch.from_folder(PATH, ds_tfms=get_transforms(), size=sz, bs=bs, valid_pct=0.2).normalize(imagenet_stats)\n",
        "print (\"There are\", len(data.train_ds), \"training images and\", len(data.valid_ds), \"validation images.\" )"
      ],
      "execution_count": 0,
      "outputs": []
    },
    {
      "cell_type": "code",
      "metadata": {
        "id": "DhkCHBo_fS5T",
        "colab_type": "code",
        "colab": {}
      },
      "source": [
        "data.show_batch(rows=3, figsize=(7,8))"
      ],
      "execution_count": 0,
      "outputs": []
    },
    {
      "cell_type": "code",
      "metadata": {
        "id": "27GtPIeufcm_",
        "colab_type": "code",
        "colab": {}
      },
      "source": [
        "learn = cnn_learner(data, models.resnet34, metrics=accuracy)"
      ],
      "execution_count": 0,
      "outputs": []
    },
    {
      "cell_type": "code",
      "metadata": {
        "id": "PCkN7ivYfiTf",
        "colab_type": "code",
        "colab": {}
      },
      "source": [
        "learn.fit_one_cycle(4)"
      ],
      "execution_count": 0,
      "outputs": []
    },
    {
      "cell_type": "code",
      "metadata": {
        "id": "q_oqpSOmfusg",
        "colab_type": "code",
        "colab": {}
      },
      "source": [
        "interp = ClassificationInterpretation.from_learner(learn)"
      ],
      "execution_count": 0,
      "outputs": []
    },
    {
      "cell_type": "code",
      "metadata": {
        "id": "14dg_SEkfzTH",
        "colab_type": "code",
        "colab": {}
      },
      "source": [
        "interp.plot_confusion_matrix(figsize=(12,12), dpi=60)"
      ],
      "execution_count": 0,
      "outputs": []
    },
    {
      "cell_type": "code",
      "metadata": {
        "id": "QkdgiqQYf52K",
        "colab_type": "code",
        "colab": {}
      },
      "source": [
        "\n",
        "interp.plot_top_losses(9, figsize=(15,11), heatmap=False)"
      ],
      "execution_count": 0,
      "outputs": []
    },
    {
      "cell_type": "code",
      "metadata": {
        "id": "snSX0nLUgCCz",
        "colab_type": "code",
        "colab": {}
      },
      "source": [
        "filename = '/content/drive/My Drive/fastai/Test/valid.jpg'\n",
        "img = open_image(filename)\n",
        "img"
      ],
      "execution_count": 0,
      "outputs": []
    },
    {
      "cell_type": "code",
      "metadata": {
        "id": "4oFtMq-ihFBW",
        "colab_type": "code",
        "colab": {}
      },
      "source": [
        "pred_class,pred_idx,outputs = learn.predict(img)\n",
        "print(\"It is \", pred_class)"
      ],
      "execution_count": 0,
      "outputs": []
    }
  ]
}